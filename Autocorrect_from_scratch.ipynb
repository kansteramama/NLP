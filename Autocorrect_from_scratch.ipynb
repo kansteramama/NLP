{
  "nbformat": 4,
  "nbformat_minor": 0,
  "metadata": {
    "colab": {
      "provenance": []
    },
    "kernelspec": {
      "name": "python3",
      "display_name": "Python 3"
    },
    "language_info": {
      "name": "python"
    }
  },
  "cells": [
    {
      "cell_type": "code",
      "source": [
        "import nltk"
      ],
      "metadata": {
        "id": "2C674RvAEhw-"
      },
      "execution_count": 1,
      "outputs": []
    },
    {
      "cell_type": "code",
      "source": [
        "from nltk.corpus import twitter_samples"
      ],
      "metadata": {
        "id": "CtgfKftyE30b"
      },
      "execution_count": 2,
      "outputs": []
    },
    {
      "cell_type": "code",
      "source": [
        "nltk.download(\"twitter_samples\")"
      ],
      "metadata": {
        "colab": {
          "base_uri": "https://localhost:8080/"
        },
        "id": "_rV-MNjzhqmE",
        "outputId": "d97cc486-2186-4b90-f121-d86f5c0a1da5"
      },
      "execution_count": 3,
      "outputs": [
        {
          "output_type": "stream",
          "name": "stderr",
          "text": [
            "[nltk_data] Downloading package twitter_samples to /root/nltk_data...\n",
            "[nltk_data]   Package twitter_samples is already up-to-date!\n"
          ]
        },
        {
          "output_type": "execute_result",
          "data": {
            "text/plain": [
              "True"
            ]
          },
          "metadata": {},
          "execution_count": 3
        }
      ]
    },
    {
      "cell_type": "code",
      "source": [
        "text = twitter_samples.strings()"
      ],
      "metadata": {
        "id": "VNVyRjwGhwDw"
      },
      "execution_count": 4,
      "outputs": []
    },
    {
      "cell_type": "code",
      "source": [
        "len(text)"
      ],
      "metadata": {
        "colab": {
          "base_uri": "https://localhost:8080/"
        },
        "id": "82EQyyLJaDpA",
        "outputId": "4243c50a-859a-43e3-c346-67b0cd7864ea"
      },
      "execution_count": 5,
      "outputs": [
        {
          "output_type": "execute_result",
          "data": {
            "text/plain": [
              "30000"
            ]
          },
          "metadata": {},
          "execution_count": 5
        }
      ]
    },
    {
      "cell_type": "code",
      "source": [
        "text[0]"
      ],
      "metadata": {
        "colab": {
          "base_uri": "https://localhost:8080/",
          "height": 36
        },
        "id": "2YI_G1aXadtW",
        "outputId": "1455a966-4f57-4402-824f-7fa0fca79c98"
      },
      "execution_count": 6,
      "outputs": [
        {
          "output_type": "execute_result",
          "data": {
            "text/plain": [
              "'hopeless for tmr :('"
            ],
            "application/vnd.google.colaboratory.intrinsic+json": {
              "type": "string"
            }
          },
          "metadata": {},
          "execution_count": 6
        }
      ]
    },
    {
      "cell_type": "code",
      "source": [
        "import re"
      ],
      "metadata": {
        "id": "Htpkep0NFISU"
      },
      "execution_count": 7,
      "outputs": []
    },
    {
      "cell_type": "code",
      "source": [
        "import string"
      ],
      "metadata": {
        "id": "hTrrxb1uFbTR"
      },
      "execution_count": 8,
      "outputs": []
    },
    {
      "cell_type": "code",
      "source": [
        "nltk.download(\"stopwords\")"
      ],
      "metadata": {
        "colab": {
          "base_uri": "https://localhost:8080/"
        },
        "id": "v6IXAs4HFfIq",
        "outputId": "8bade1c9-0500-4924-97f7-3632fa36cbeb"
      },
      "execution_count": 9,
      "outputs": [
        {
          "output_type": "stream",
          "name": "stderr",
          "text": [
            "[nltk_data] Downloading package stopwords to /root/nltk_data...\n",
            "[nltk_data]   Package stopwords is already up-to-date!\n"
          ]
        },
        {
          "output_type": "execute_result",
          "data": {
            "text/plain": [
              "True"
            ]
          },
          "metadata": {},
          "execution_count": 9
        }
      ]
    },
    {
      "cell_type": "code",
      "source": [
        "from nltk.corpus import stopwords"
      ],
      "metadata": {
        "id": "gBC_lPkOFinB"
      },
      "execution_count": 10,
      "outputs": []
    },
    {
      "cell_type": "code",
      "source": [
        "stopword = stopwords.words(\"english\")"
      ],
      "metadata": {
        "id": "Fdu0HF2AFoSC"
      },
      "execution_count": 11,
      "outputs": []
    },
    {
      "cell_type": "code",
      "source": [
        "nltk.download(\"punkt\")"
      ],
      "metadata": {
        "colab": {
          "base_uri": "https://localhost:8080/"
        },
        "id": "xTiecJ4VHg-S",
        "outputId": "e3affa92-9ed8-439e-a7e1-f09e1f330f2e"
      },
      "execution_count": 12,
      "outputs": [
        {
          "output_type": "stream",
          "name": "stderr",
          "text": [
            "[nltk_data] Downloading package punkt to /root/nltk_data...\n",
            "[nltk_data]   Package punkt is already up-to-date!\n"
          ]
        },
        {
          "output_type": "execute_result",
          "data": {
            "text/plain": [
              "True"
            ]
          },
          "metadata": {},
          "execution_count": 12
        }
      ]
    },
    {
      "cell_type": "code",
      "source": [
        "from nltk.tokenize import word_tokenize, sent_tokenize"
      ],
      "metadata": {
        "id": "sqZLmWBLHkjs"
      },
      "execution_count": 13,
      "outputs": []
    },
    {
      "cell_type": "code",
      "source": [
        "!pip install emoji"
      ],
      "metadata": {
        "colab": {
          "base_uri": "https://localhost:8080/"
        },
        "id": "XGOGl_KKONq7",
        "outputId": "6ba85686-c410-4f18-e4e3-f748cb144420"
      },
      "execution_count": 14,
      "outputs": [
        {
          "output_type": "stream",
          "name": "stdout",
          "text": [
            "Requirement already satisfied: emoji in /usr/local/lib/python3.10/dist-packages (2.12.1)\n",
            "Requirement already satisfied: typing-extensions>=4.7.0 in /usr/local/lib/python3.10/dist-packages (from emoji) (4.12.2)\n"
          ]
        }
      ]
    },
    {
      "cell_type": "code",
      "source": [
        "import emoji"
      ],
      "metadata": {
        "id": "qmiuR_xpOXfW"
      },
      "execution_count": 15,
      "outputs": []
    },
    {
      "cell_type": "code",
      "source": [
        "lines = []\n",
        "for i in range(len(text)):\n",
        "  if type(text[i]) == \"str\":\n",
        "    a = text[i]\n",
        "  elif type(text[i]) != \"str\":\n",
        "    a = str(text[i])\n",
        "  a = a.lower()\n",
        "  a = re.sub(\"https?://\\S+|www\\.\\S+\", \"\", a)\n",
        "  a = re.sub(\"#\\w+\", \"\", a)\n",
        "  a = re.sub(\"@\\w+\", \"\", a)\n",
        "  a = re.sub(\"\\d+\", \"\", a)\n",
        "  a = re.sub(\":\\(|:\\)|:\\-\\(|\\(+|\\)+\", \"\", a)\n",
        "  a = emoji.replace_emoji(a, \"\")\n",
        "  word = word_tokenize(a)\n",
        "  for i in word:\n",
        "    if i in string.punctuation:\n",
        "      a.replace(i, \"\")\n",
        "  for b in sent_tokenize(a):\n",
        "    lines.append(b.strip())\n",
        "print(len(lines))"
      ],
      "metadata": {
        "colab": {
          "base_uri": "https://localhost:8080/"
        },
        "id": "l7kSL11XFt5-",
        "outputId": "b1912f05-a5c6-4b66-ff8e-329172f26468"
      },
      "execution_count": 16,
      "outputs": [
        {
          "output_type": "stream",
          "name": "stdout",
          "text": [
            "44754\n"
          ]
        }
      ]
    },
    {
      "cell_type": "code",
      "source": [
        "lines"
      ],
      "metadata": {
        "id": "hCblD5iSIk84"
      },
      "execution_count": null,
      "outputs": []
    },
    {
      "cell_type": "code",
      "source": [
        "def word_count(word):\n",
        "  count= 0\n",
        "  for i in lines:\n",
        "    if word in i:\n",
        "      count += 1\n",
        "  return count"
      ],
      "metadata": {
        "id": "27TIAgzIeOBj"
      },
      "execution_count": 18,
      "outputs": []
    },
    {
      "cell_type": "code",
      "source": [
        "from collections import Counter"
      ],
      "metadata": {
        "id": "yh7Nv-qcmN0B"
      },
      "execution_count": 19,
      "outputs": []
    },
    {
      "cell_type": "code",
      "source": [
        "c = []\n",
        "for i in lines:\n",
        "  a = word_tokenize(i)\n",
        "  for j in a:\n",
        "    if j in string.punctuation:\n",
        "      a.remove(j)\n",
        "  c.extend(a)\n",
        "counter = Counter(c)\n",
        "counter"
      ],
      "metadata": {
        "id": "-WHTOZyZmcOe"
      },
      "execution_count": null,
      "outputs": []
    },
    {
      "cell_type": "code",
      "source": [
        "len(counter)"
      ],
      "metadata": {
        "colab": {
          "base_uri": "https://localhost:8080/"
        },
        "id": "gTW-ioeknW9b",
        "outputId": "533c4ce3-b9f7-44fa-f7ba-e4c536df1841"
      },
      "execution_count": 21,
      "outputs": [
        {
          "output_type": "execute_result",
          "data": {
            "text/plain": [
              "19237"
            ]
          },
          "metadata": {},
          "execution_count": 21
        }
      ]
    },
    {
      "cell_type": "code",
      "source": [
        "import pandas as pd"
      ],
      "metadata": {
        "id": "qZTtHNi_rY-I"
      },
      "execution_count": 22,
      "outputs": []
    },
    {
      "cell_type": "code",
      "source": [
        "a = []\n",
        "b = []\n",
        "for i,j in zip(counter.keys(), counter.values()):\n",
        "  a.append(i)\n",
        "  b.append(j)\n",
        "frame = {\"words\" : a, \"count\" : b}\n",
        "frame = pd.DataFrame(frame)"
      ],
      "metadata": {
        "id": "J9rV_zSprlbo"
      },
      "execution_count": 23,
      "outputs": []
    },
    {
      "cell_type": "code",
      "source": [
        "N_class = 0\n",
        "for i in frame[\"count\"]:\n",
        "  N_class += i\n",
        "c = []\n",
        "for i in range(len(frame[\"count\"])):\n",
        "  c.append(frame[\"count\"][i]/N_class)\n",
        "frame[\"probab\"] = c\n",
        "frame[\"count\"] = frame[\"count\"].astype(\"int16\")\n",
        "frame[\"probab\"] = frame[\"probab\"].astype(\"float16\")"
      ],
      "metadata": {
        "id": "f8DFB9vesR0o"
      },
      "execution_count": 24,
      "outputs": []
    },
    {
      "cell_type": "code",
      "source": [
        "frame.info()"
      ],
      "metadata": {
        "colab": {
          "base_uri": "https://localhost:8080/"
        },
        "id": "fpYu_rGjsrcu",
        "outputId": "0d821a91-89f1-4aa3-b989-41ec7749906a"
      },
      "execution_count": 25,
      "outputs": [
        {
          "output_type": "stream",
          "name": "stdout",
          "text": [
            "<class 'pandas.core.frame.DataFrame'>\n",
            "RangeIndex: 19237 entries, 0 to 19236\n",
            "Data columns (total 3 columns):\n",
            " #   Column  Non-Null Count  Dtype  \n",
            "---  ------  --------------  -----  \n",
            " 0   words   19237 non-null  object \n",
            " 1   count   19237 non-null  int16  \n",
            " 2   probab  19237 non-null  float16\n",
            "dtypes: float16(1), int16(1), object(1)\n",
            "memory usage: 225.6+ KB\n"
          ]
        }
      ]
    },
    {
      "cell_type": "code",
      "source": [
        "frame[\"words\"]"
      ],
      "metadata": {
        "id": "sS0fQCG0HxVc"
      },
      "execution_count": null,
      "outputs": []
    },
    {
      "cell_type": "code",
      "source": [
        "frame.head(20)"
      ],
      "metadata": {
        "id": "o871t90ctXmi"
      },
      "execution_count": null,
      "outputs": []
    },
    {
      "cell_type": "code",
      "source": [
        "line = lines[0]\n",
        "line"
      ],
      "metadata": {
        "colab": {
          "base_uri": "https://localhost:8080/",
          "height": 36
        },
        "id": "OU_0uc_exc_5",
        "outputId": "a078192c-9759-4bf9-d034-eff2e00ea30b"
      },
      "execution_count": 28,
      "outputs": [
        {
          "output_type": "execute_result",
          "data": {
            "text/plain": [
              "'hopeless for tmr'"
            ],
            "application/vnd.google.colaboratory.intrinsic+json": {
              "type": "string"
            }
          },
          "metadata": {},
          "execution_count": 28
        }
      ]
    },
    {
      "cell_type": "code",
      "source": [
        "def delete(word):\n",
        "  delete = []\n",
        "  for i in range(len(word)):\n",
        "    L = word[:i]\n",
        "    R = word[i+1:]\n",
        "    a = L+R\n",
        "    delete.append(a)\n",
        "  return delete"
      ],
      "metadata": {
        "id": "l0ROVB4AxivR"
      },
      "execution_count": 29,
      "outputs": []
    },
    {
      "cell_type": "code",
      "source": [
        "def insert(word):\n",
        "  insert = []\n",
        "  letters = \"abcdefghijklmnopqrstuvwxyz\"\n",
        "  for i in range(len(word)+1):\n",
        "    for j in range(len(letters)):\n",
        "      L = word[:i]\n",
        "      R = word[i:]\n",
        "      a = L + letters[j] + R\n",
        "      insert.append(a)\n",
        "  return insert"
      ],
      "metadata": {
        "id": "-PRbjd4-Cj8o"
      },
      "execution_count": 30,
      "outputs": []
    },
    {
      "cell_type": "code",
      "source": [
        "def switch(word):\n",
        "  def swap(word,a,b):\n",
        "    word_list = list(word)\n",
        "    word_list[a], word_list[b] = word_list[b], word_list[a]\n",
        "    return \"\".join(word_list)\n",
        "  switch = []\n",
        "  for i in range(len(word)-1):\n",
        "    a = swap(word, i, i+1)\n",
        "    switch.append(a)\n",
        "  return switch"
      ],
      "metadata": {
        "id": "7EczM9XJF8Jt"
      },
      "execution_count": 31,
      "outputs": []
    },
    {
      "cell_type": "code",
      "source": [
        "def replace(word):\n",
        "  replace = []\n",
        "  letters = \"abcdefghijklmnopqrstuvwxyz\"\n",
        "  for i in range(len(word)):\n",
        "    for j in range(len(letters)):\n",
        "      a = word[:i] + letters[j] + word[i+1:]\n",
        "      replace.append(a)\n",
        "  return replace"
      ],
      "metadata": {
        "id": "S6zMsve6Kyd0"
      },
      "execution_count": 32,
      "outputs": []
    },
    {
      "cell_type": "code",
      "source": [
        "def one_edits(word):\n",
        "  one_edit = set()\n",
        "  one_edit.update(delete(word))\n",
        "  one_edit.update(switch(word))\n",
        "  one_edit.update(insert(word))\n",
        "  one_edit.update(replace(word))\n",
        "  return one_edit"
      ],
      "metadata": {
        "id": "8xuWpgaGPJT-"
      },
      "execution_count": 33,
      "outputs": []
    },
    {
      "cell_type": "code",
      "source": [
        "def delete_two_edits(word):\n",
        "  delete = []\n",
        "  for i in range(len(word)-1):\n",
        "    L = word[:i]\n",
        "    R = word[i+2:]\n",
        "    a = L+R\n",
        "    delete.append(a)\n",
        "  return delete"
      ],
      "metadata": {
        "id": "MMl73I6iTVag"
      },
      "execution_count": 34,
      "outputs": []
    },
    {
      "cell_type": "code",
      "source": [
        "def insert_two_words(word):\n",
        "  insert = []\n",
        "  letters = \"abcdefghijklmnopqrstuvwxyz\"\n",
        "  for i in range(len(word)+1):\n",
        "      L = word[:i]\n",
        "      R = word[i:]\n",
        "      for j in letters:\n",
        "        for k in letters:\n",
        "          a = L + j + k+ R\n",
        "          insert.append(a)\n",
        "  return insert"
      ],
      "metadata": {
        "id": "11skxk4PTyoq"
      },
      "execution_count": 35,
      "outputs": []
    },
    {
      "cell_type": "code",
      "source": [
        "def replace_two_words(word):\n",
        "  replace = []\n",
        "  letters = \"abcdefghijklmnopqrstuvwxyz\"\n",
        "  for i in range(len(word)-1):\n",
        "    for j in letters:\n",
        "      for k in letters:\n",
        "        a = word[:i] + j + k + word[i+2:]\n",
        "        replace.append(a)\n",
        "  return replace"
      ],
      "metadata": {
        "id": "johClL13YBcW"
      },
      "execution_count": 36,
      "outputs": []
    },
    {
      "cell_type": "code",
      "source": [
        "def switch_two_words(word):\n",
        "  switches = []\n",
        "  for i in word:\n",
        "    a = switch(i)\n",
        "    for  j in a:\n",
        "      switches.append(j)\n",
        "  return switches"
      ],
      "metadata": {
        "id": "0Nk_uutvba71"
      },
      "execution_count": 37,
      "outputs": []
    },
    {
      "cell_type": "code",
      "source": [
        "def edit_two_words(word):\n",
        "  edit_two_word = set()\n",
        "  edit_two_word.update(delete_two_edits(word))\n",
        "  edit_two_word.update(insert_two_words(word))\n",
        "  edit_two_word.update(replace_two_words(word))\n",
        "  edit_two_word.update(switch_two_words(word))\n",
        "  return edit_two_word"
      ],
      "metadata": {
        "id": "BHu6stfgb6fU"
      },
      "execution_count": 38,
      "outputs": []
    },
    {
      "cell_type": "code",
      "source": [
        "import numpy as np"
      ],
      "metadata": {
        "id": "XyucOP0fMgtU"
      },
      "execution_count": 39,
      "outputs": []
    },
    {
      "cell_type": "code",
      "source": [
        "def autocorrect(word):\n",
        "  def minimum_edit_distance(source, target):\n",
        "    def cost(source,target,row,column):\n",
        "      if source[row] != target[column]:\n",
        "        return 2\n",
        "      elif source[row] == target[column]:\n",
        "        return 0\n",
        "    source  = \" \" + source\n",
        "    target  = \" \" + target\n",
        "    D = np.zeros((len(source), len(target)))\n",
        "    for row in range(len(source)):\n",
        "      D[row,0] = row\n",
        "    for column in range(len(target)):\n",
        "      D[0,column] = column\n",
        "    for column in range(1,len(target)):\n",
        "      for row in range(1,len(source)):\n",
        "        D[row,column] = min((D[row-1,column]+1),(D[row,column-1]+1),(D[row-1,column-1]+cost(source,target,row,column)))\n",
        "    return int(D[-1,-1])\n",
        "  corrections = dict()\n",
        "  if word in frame[\"words\"]:\n",
        "    return f\"{word} : probablity = 100%\"\n",
        "  elif word not in frame[\"words\"]:\n",
        "    a = set(frame[\"words\"])\n",
        "    j = list(a.intersection(one_edits(word)))\n",
        "    k = list(a.intersection(edit_two_words(word)))\n",
        "    c = []\n",
        "    for i in j:\n",
        "      c.append(i)\n",
        "    for i in k:\n",
        "      c.append(i)\n",
        "      corrections[\"expected_words\"] = []\n",
        "      corrections[\"probablity\"] = []\n",
        "      correction = pd.DataFrame(corrections)\n",
        "      correction[\"expected_words\"] = c\n",
        "      d = list(frame[\"words\"])\n",
        "      e = []\n",
        "      for i in c:\n",
        "        index = d.index(i)\n",
        "        e.append(frame[\"probab\"][index])\n",
        "      correction[\"probablity\"] = e\n",
        "      correction[\"probablity\"] = correction[\"probablity\"].astype(\"float32\")\n",
        "      words = set(sorted(c, reverse= True))\n",
        "      f = dict()\n",
        "      for i in c:\n",
        "        a = minimum_edit_distance(word, i)\n",
        "        f[i] = a\n",
        "      e = sorted(list(f.values()))\n",
        "      g = list(f.keys())\n",
        "      h = []\n",
        "      for i in e[:3]:\n",
        "        index = list(f.values()).index(i)\n",
        "        h.append(g[index])\n",
        "      n = set(h)\n",
        "      m = set.intersection(n,words)\n",
        "      return m"
      ],
      "metadata": {
        "id": "70_6tELt2NoN"
      },
      "execution_count": 40,
      "outputs": []
    },
    {
      "cell_type": "code",
      "source": [
        "autocorrect(\"stdent\")"
      ],
      "metadata": {
        "colab": {
          "base_uri": "https://localhost:8080/"
        },
        "id": "h3zDNuq4ImWr",
        "outputId": "3d45598f-996a-4430-f0bc-eee58ed1869c"
      },
      "execution_count": 54,
      "outputs": [
        {
          "output_type": "execute_result",
          "data": {
            "text/plain": [
              "{'strident', 'student'}"
            ]
          },
          "metadata": {},
          "execution_count": 54
        }
      ]
    }
  ]
}